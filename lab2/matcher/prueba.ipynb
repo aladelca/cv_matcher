{
 "cells": [
  {
   "cell_type": "code",
   "execution_count": 11,
   "metadata": {},
   "outputs": [],
   "source": [
    "import pickle\n",
    "import pandas as pd\n",
    "import nltk\n",
    "import re"
   ]
  },
  {
   "cell_type": "code",
   "execution_count": 28,
   "metadata": {},
   "outputs": [],
   "source": [
    "import pandas as pd\n",
    "import re\n",
    "import unicodedata\n",
    "\n",
    "def limpiar_texto(texto):\n",
    "    \n",
    "    texto_normalizado = unicodedata.normalize('NFKD', texto)\n",
    "    texto_limpio = re.sub(r'[^a-zA-Z0-9\\s]', '', texto_normalizado)\n",
    "    return texto_limpio.lower()\n",
    "\n"
   ]
  },
  {
   "cell_type": "code",
   "execution_count": 29,
   "metadata": {},
   "outputs": [],
   "source": [
    "puestos = pickle.load(open('static/data/puestos.pickle', 'rb'))\n",
    "puestos[\"PUESTO\"] = puestos[\"PUESTO\"].apply(limpiar_texto)"
   ]
  },
  {
   "cell_type": "code",
   "execution_count": 31,
   "metadata": {},
   "outputs": [],
   "source": [
    "### Tokenización\n",
    "puestos[\"tokens\"] = puestos[\"PUESTO\"].apply(nltk.word_tokenize)"
   ]
  },
  {
   "cell_type": "code",
   "execution_count": null,
   "metadata": {},
   "outputs": [],
   "source": [
    "### Stop words\n",
    "\n",
    "stopwords = nltk.corpus.stopwords.words('spanish')\n",
    "puestos[\"tokens_sin_stopwords\"] = puestos[\"tokens\"].apply(lambda x: [word for word in x if word not in stopwords])"
   ]
  },
  {
   "cell_type": "code",
   "execution_count": 34,
   "metadata": {},
   "outputs": [],
   "source": [
    "### Lematización\n",
    "\n",
    "from nltk.stem import WordNetLemmatizer\n",
    "wordnet_lemmatizer = WordNetLemmatizer()\n",
    "\n",
    "puestos[\"tokens_lematizados\"] = puestos[\"tokens_sin_stopwords\"].apply(lambda x: [wordnet_lemmatizer.lemmatize(word, pos = \"v\") for word in x])"
   ]
  },
  {
   "cell_type": "code",
   "execution_count": null,
   "metadata": {},
   "outputs": [],
   "source": [
    "## Unir\n",
    "puestos[\"texto_final\"] = puestos[\"tokens_lematizados\"].apply(lambda x: \" \".join(x))"
   ]
  },
  {
   "cell_type": "code",
   "execution_count": null,
   "metadata": {},
   "outputs": [],
   "source": [
    "### Vectorización\n",
    "\n",
    "from sklearn.feature_extraction.text import TfidfVectorizer\n",
    "\n",
    "vectorizer = TfidfVectorizer()\n",
    "vectorizer.fit(puestos[\"texto_final\"])"
   ]
  },
  {
   "cell_type": "code",
   "execution_count": null,
   "metadata": {},
   "outputs": [],
   "source": [
    "pickle.dump(vectorizer, open('static/data/nuestro_vectorizer.pickle', 'wb'))"
   ]
  },
  {
   "cell_type": "code",
   "execution_count": null,
   "metadata": {},
   "outputs": [],
   "source": [
    "pickle.load(open('static/data/nuestro_vectorizer.pickle', 'rb'))"
   ]
  },
  {
   "cell_type": "code",
   "execution_count": null,
   "metadata": {},
   "outputs": [],
   "source": [
    "import docx\n",
    "doc = docx.Document(\"/Users/aladelca/Library/CloudStorage/GoogleDrive-alarcon.adrianc@gmail.com/My Drive/portafolio/cv_matcher/lab2/documents/Carlos Adrián Alarcón Delgado alarcon_prueba.docx\")    \n",
    "full_text = []\n",
    "for para in doc.paragraphs:\n",
    "    full_text.append(para.text)\n",
    "\n",
    "full_text = \" \".join(full_text)\n",
    "texto_limpio = limpiar_texto(full_text)\n",
    "tokens = nltk.word_tokenize(texto_limpio)\n",
    "tokens_sin_stopwords = [word for word in tokens if word not in stopwords]\n",
    "tokens_lematizados = [wordnet_lemmatizer.lemmatize(word, pos = \"v\") for word in tokens_sin_stopwords]\n",
    "texto_final = \" \".join(tokens_lematizados)\n",
    "texto_final"
   ]
  },
  {
   "cell_type": "code",
   "execution_count": 55,
   "metadata": {},
   "outputs": [],
   "source": [
    "puestos_vectorizados = vectorizer.transform(puestos[\"texto_final\"]) \n",
    "documento_vectorizado = vectorizer.transform([texto_final])"
   ]
  },
  {
   "cell_type": "code",
   "execution_count": null,
   "metadata": {},
   "outputs": [],
   "source": [
    "from sklearn.metrics.pairwise import cosine_similarity\n",
    "\n",
    "similitudes = cosine_similarity(documento_vectorizado, puestos_vectorizados)\n",
    "indices = pd.Series(similitudes[0]).sort_values(ascending = False).head(5).index"
   ]
  },
  {
   "cell_type": "code",
   "execution_count": null,
   "metadata": {},
   "outputs": [],
   "source": [
    "puestos.iloc[indices, 0]"
   ]
  }
 ],
 "metadata": {
  "kernelspec": {
   "display_name": ".venv",
   "language": "python",
   "name": "python3"
  },
  "language_info": {
   "codemirror_mode": {
    "name": "ipython",
    "version": 3
   },
   "file_extension": ".py",
   "mimetype": "text/x-python",
   "name": "python",
   "nbconvert_exporter": "python",
   "pygments_lexer": "ipython3",
   "version": "3.10.11"
  }
 },
 "nbformat": 4,
 "nbformat_minor": 2
}
